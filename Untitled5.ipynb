{
  "nbformat": 4,
  "nbformat_minor": 0,
  "metadata": {
    "colab": {
      "provenance": [],
      "authorship_tag": "ABX9TyOtXh2/kOlA897NdazmR7Cv",
      "include_colab_link": true
    },
    "kernelspec": {
      "name": "python3",
      "display_name": "Python 3"
    },
    "language_info": {
      "name": "python"
    }
  },
  "cells": [
    {
      "cell_type": "markdown",
      "metadata": {
        "id": "view-in-github",
        "colab_type": "text"
      },
      "source": [
        "<a href=\"https://colab.research.google.com/github/Amirhosseinuosefi/Amir-hossein-yosefi/blob/main/Untitled5.ipynb\" target=\"_parent\"><img src=\"https://colab.research.google.com/assets/colab-badge.svg\" alt=\"Open In Colab\"/></a>"
      ]
    },
    {
      "cell_type": "code",
      "execution_count": 1,
      "metadata": {
        "colab": {
          "base_uri": "https://localhost:8080/"
        },
        "id": "tDvwasFvID6r",
        "outputId": "5b80d0df-85d2-4f18-ca37-2f02d91abb2d"
      },
      "outputs": [
        {
          "output_type": "stream",
          "name": "stdout",
          "text": [
            "لطفا یک عدد وارد کنید: 546\n",
            "معکوس عدد وارد شده: 645\n"
          ]
        }
      ],
      "source": [
        "number = int(input(\"لطفا یک عدد وارد کنید: \"))\n",
        "reversed_number = 0\n",
        "\n",
        "while number > 0:\n",
        "    digit = number % 10\n",
        "    reversed_number = (reversed_number * 10) + digit\n",
        "    number = number // 10\n",
        "\n",
        "print(\"معکوس عدد وارد شده:\", reversed_number)\n"
      ]
    },
    {
      "cell_type": "code",
      "source": [
        "total = 0\n",
        "while True:\n",
        "    number = int(input(\"لطفا عدد را وارد کنید (برای خروج عدد صفر را وارد کنید): \"))\n",
        "    if number == 0:\n",
        "        break\n",
        "    total += number\n",
        "\n",
        "print(\"مجموع اعداد وارد شده:\", total)"
      ],
      "metadata": {
        "colab": {
          "base_uri": "https://localhost:8080/"
        },
        "id": "alwMtAFZIrzb",
        "outputId": "3c52694c-fe98-45a4-c386-dad9217b092c"
      },
      "execution_count": 2,
      "outputs": [
        {
          "output_type": "stream",
          "name": "stdout",
          "text": [
            "لطفا عدد را وارد کنید (برای خروج عدد صفر را وارد کنید): 5\n",
            "لطفا عدد را وارد کنید (برای خروج عدد صفر را وارد کنید): 6\n",
            "لطفا عدد را وارد کنید (برای خروج عدد صفر را وارد کنید): 10\n",
            "لطفا عدد را وارد کنید (برای خروج عدد صفر را وارد کنید): 50\n",
            "لطفا عدد را وارد کنید (برای خروج عدد صفر را وارد کنید): 0\n",
            "مجموع اعداد وارد شده: 71\n"
          ]
        }
      ]
    },
    {
      "cell_type": "code",
      "source": [
        "numbers = [1, 2, 3, 4, 5]\n",
        "\n",
        "total = 0\n",
        "index = 0\n",
        "while index < len(numbers):\n",
        "    total += numbers[index]\n",
        "    index += 1\n",
        "\n",
        "print(\"جمع عناصر لیست:\", total)"
      ],
      "metadata": {
        "colab": {
          "base_uri": "https://localhost:8080/"
        },
        "id": "Nwb1ZA21JT9W",
        "outputId": "48fefd18-0e2b-489e-a529-d3364b7ec2fc"
      },
      "execution_count": 3,
      "outputs": [
        {
          "output_type": "stream",
          "name": "stdout",
          "text": [
            "جمع عناصر لیست: 15\n"
          ]
        }
      ]
    },
    {
      "cell_type": "code",
      "source": [
        "num1 = float(input(\"Enter the first number: \"))\n",
        "num2 = float(input(\"Enter the second number: \"))\n",
        "\n",
        "print(\"Select operation:\")\n",
        "print(\"1. Addition\")\n",
        "print(\"2. Subtraction\")\n",
        "print(\"3. Multiplication\")\n",
        "print(\"4. Division\")\n",
        "\n",
        "operation = int(input(\"Enter operation number: \"))\n",
        "\n",
        "result = 0\n",
        "\n",
        "if operation == 1:\n",
        "    result = num1 + num2\n",
        "elif operation == 2:\n",
        "    result = num1 - num2\n",
        "elif operation == 3:\n",
        "    result = num1 * num2\n",
        "elif operation == 4:\n",
        "    if num2 != 0:\n",
        "        result = num1 / num2\n",
        "    else:\n",
        "        print(\"Error: Division by zero is not possible!\")\n",
        "else:\n",
        "    print(\"Invalid operation number!\")\n",
        "\n",
        "print(\"Result =\", result)\n"
      ],
      "metadata": {
        "colab": {
          "base_uri": "https://localhost:8080/"
        },
        "id": "OA80yGpgJfL6",
        "outputId": "a5a72299-8776-4b94-89e6-0ada3f33a9c0"
      },
      "execution_count": 4,
      "outputs": [
        {
          "output_type": "stream",
          "name": "stdout",
          "text": [
            "Enter the first number: 20\n",
            "Enter the second number: 3\n",
            "Select operation:\n",
            "1. Addition\n",
            "2. Subtraction\n",
            "3. Multiplication\n",
            "4. Division\n",
            "Enter operation number: 4\n",
            "Result = 6.666666666666667\n"
          ]
        }
      ]
    },
    {
      "cell_type": "code",
      "source": [
        "def add_to_list(item, my_list):\n",
        "    my_list.append(item)\n",
        "    print(f\"{item} added to the list.\")\n",
        "\n",
        "def print_list(my_list):\n",
        "    print(\"Current list:\", my_list)\n",
        "\n",
        "def delete_item(item, my_list):\n",
        "    if item in my_list:\n",
        "        my_list.remove(item)\n",
        "        print(f\"{item} deleted from the list.\")\n",
        "    else:\n",
        "        print(f\"{item} not found in the list.\")\n",
        "\n",
        "def main():\n",
        "    my_list = []\n",
        "\n",
        "    while True:\n",
        "        print(\"Menu:\")\n",
        "        print(\"1. Add to list\")\n",
        "        print(\"2. Print list\")\n",
        "        print(\"3. Delete item from list\")\n",
        "        print(\"4. Exit\")\n",
        "\n",
        "        choice = input(\"Enter a number: \")\n",
        "\n",
        "        if choice == \"1\":\n",
        "            item = input(\"Enter an item to add to the list: \")\n",
        "            add_to_list(item, my_list)\n",
        "        elif choice == \"2\":\n",
        "            print_list(my_list)\n",
        "        elif choice == \"3\":\n",
        "            item = input(\"Enter an item to delete from the list: \")\n",
        "            delete_item(item, my_list)\n",
        "        elif choice == \"4\":\n",
        "            print(\"Exiting the program.\")\n",
        "            break\n",
        "        else:\n",
        "            print(\"Invalid choice. Please enter a number between 1 and 4.\")\n",
        "\n",
        "if __name__ == \"__main__\":\n",
        "    main()"
      ],
      "metadata": {
        "colab": {
          "base_uri": "https://localhost:8080/"
        },
        "id": "FfH47HEkK37K",
        "outputId": "2957c848-d7bc-4377-d59e-d0eed7f9284a"
      },
      "execution_count": 5,
      "outputs": [
        {
          "output_type": "stream",
          "name": "stdout",
          "text": [
            "Menu:\n",
            "1. Add to list\n",
            "2. Print list\n",
            "3. Delete item from list\n",
            "4. Exit\n",
            "Enter a number: 1\n",
            "Enter an item to add to the list: 5\n",
            "5 added to the list.\n",
            "Menu:\n",
            "1. Add to list\n",
            "2. Print list\n",
            "3. Delete item from list\n",
            "4. Exit\n",
            "Enter a number: 1\n",
            "Enter an item to add to the list: 56\n",
            "56 added to the list.\n",
            "Menu:\n",
            "1. Add to list\n",
            "2. Print list\n",
            "3. Delete item from list\n",
            "4. Exit\n",
            "Enter a number: 2\n",
            "Current list: ['5', '56']\n",
            "Menu:\n",
            "1. Add to list\n",
            "2. Print list\n",
            "3. Delete item from list\n",
            "4. Exit\n",
            "Enter a number: 4\n",
            "Exiting the program.\n"
          ]
        }
      ]
    }
  ]
}