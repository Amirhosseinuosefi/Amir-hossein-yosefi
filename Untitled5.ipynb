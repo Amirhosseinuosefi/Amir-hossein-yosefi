{
  "nbformat": 4,
  "nbformat_minor": 0,
  "metadata": {
    "colab": {
      "provenance": [],
      "authorship_tag": "ABX9TyPfw+bp1bgrusIhlVpeQQOM",
      "include_colab_link": true
    },
    "kernelspec": {
      "name": "python3",
      "display_name": "Python 3"
    },
    "language_info": {
      "name": "python"
    }
  },
  "cells": [
    {
      "cell_type": "markdown",
      "metadata": {
        "id": "view-in-github",
        "colab_type": "text"
      },
      "source": [
        "<a href=\"https://colab.research.google.com/github/Amirhosseinuosefi/Amir-hossein-yosefi/blob/main/Untitled5.ipynb\" target=\"_parent\"><img src=\"https://colab.research.google.com/assets/colab-badge.svg\" alt=\"Open In Colab\"/></a>"
      ]
    },
    {
      "cell_type": "code",
      "execution_count": 1,
      "metadata": {
        "colab": {
          "base_uri": "https://localhost:8080/"
        },
        "id": "tDvwasFvID6r",
        "outputId": "5b80d0df-85d2-4f18-ca37-2f02d91abb2d"
      },
      "outputs": [
        {
          "output_type": "stream",
          "name": "stdout",
          "text": [
            "لطفا یک عدد وارد کنید: 546\n",
            "معکوس عدد وارد شده: 645\n"
          ]
        }
      ],
      "source": [
        "number = int(input(\"لطفا یک عدد وارد کنید: \"))\n",
        "reversed_number = 0\n",
        "\n",
        "while number > 0:\n",
        "    digit = number % 10\n",
        "    reversed_number = (reversed_number * 10) + digit\n",
        "    number = number // 10\n",
        "\n",
        "print(\"معکوس عدد وارد شده:\", reversed_number)\n"
      ]
    },
    {
      "cell_type": "code",
      "source": [
        "total = 0\n",
        "while True:\n",
        "    number = int(input(\"لطفا عدد را وارد کنید (برای خروج عدد صفر را وارد کنید): \"))\n",
        "    if number == 0:\n",
        "        break\n",
        "    total += number\n",
        "\n",
        "print(\"مجموع اعداد وارد شده:\", total)"
      ],
      "metadata": {
        "colab": {
          "base_uri": "https://localhost:8080/"
        },
        "id": "alwMtAFZIrzb",
        "outputId": "3c52694c-fe98-45a4-c386-dad9217b092c"
      },
      "execution_count": 2,
      "outputs": [
        {
          "output_type": "stream",
          "name": "stdout",
          "text": [
            "لطفا عدد را وارد کنید (برای خروج عدد صفر را وارد کنید): 5\n",
            "لطفا عدد را وارد کنید (برای خروج عدد صفر را وارد کنید): 6\n",
            "لطفا عدد را وارد کنید (برای خروج عدد صفر را وارد کنید): 10\n",
            "لطفا عدد را وارد کنید (برای خروج عدد صفر را وارد کنید): 50\n",
            "لطفا عدد را وارد کنید (برای خروج عدد صفر را وارد کنید): 0\n",
            "مجموع اعداد وارد شده: 71\n"
          ]
        }
      ]
    },
    {
      "cell_type": "code",
      "source": [
        "numbers = [1, 2, 3, 4, 5]\n",
        "\n",
        "total = 0\n",
        "index = 0\n",
        "while index < len(numbers):\n",
        "    total += numbers[index]\n",
        "    index += 1\n",
        "\n",
        "print(\"جمع عناصر لیست:\", total)"
      ],
      "metadata": {
        "colab": {
          "base_uri": "https://localhost:8080/"
        },
        "id": "Nwb1ZA21JT9W",
        "outputId": "48fefd18-0e2b-489e-a529-d3364b7ec2fc"
      },
      "execution_count": 3,
      "outputs": [
        {
          "output_type": "stream",
          "name": "stdout",
          "text": [
            "جمع عناصر لیست: 15\n"
          ]
        }
      ]
    },
    {
      "cell_type": "code",
      "source": [
        "num1 = float(input(\"Enter the first number: \"))\n",
        "num2 = float(input(\"Enter the second number: \"))\n",
        "\n",
        "print(\"Select operation:\")\n",
        "print(\"1. Addition\")\n",
        "print(\"2. Subtraction\")\n",
        "print(\"3. Multiplication\")\n",
        "print(\"4. Division\")\n",
        "\n",
        "operation = int(input(\"Enter operation number: \"))\n",
        "\n",
        "result = 0\n",
        "\n",
        "if operation == 1:\n",
        "    result = num1 + num2\n",
        "elif operation == 2:\n",
        "    result = num1 - num2\n",
        "elif operation == 3:\n",
        "    result = num1 * num2\n",
        "elif operation == 4:\n",
        "    if num2 != 0:\n",
        "        result = num1 / num2\n",
        "    else:\n",
        "        print(\"Error: Division by zero is not possible!\")\n",
        "else:\n",
        "    print(\"Invalid operation number!\")\n",
        "\n",
        "print(\"Result =\", result)\n"
      ],
      "metadata": {
        "colab": {
          "base_uri": "https://localhost:8080/"
        },
        "id": "OA80yGpgJfL6",
        "outputId": "a5a72299-8776-4b94-89e6-0ada3f33a9c0"
      },
      "execution_count": 4,
      "outputs": [
        {
          "output_type": "stream",
          "name": "stdout",
          "text": [
            "Enter the first number: 20\n",
            "Enter the second number: 3\n",
            "Select operation:\n",
            "1. Addition\n",
            "2. Subtraction\n",
            "3. Multiplication\n",
            "4. Division\n",
            "Enter operation number: 4\n",
            "Result = 6.666666666666667\n"
          ]
        }
      ]
    }
  ]
}