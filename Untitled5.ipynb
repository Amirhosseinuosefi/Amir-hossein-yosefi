{
  "nbformat": 4,
  "nbformat_minor": 0,
  "metadata": {
    "colab": {
      "provenance": [],
      "authorship_tag": "ABX9TyNnIEP8XDECa9/8aqWb87Jk",
      "include_colab_link": true
    },
    "kernelspec": {
      "name": "python3",
      "display_name": "Python 3"
    },
    "language_info": {
      "name": "python"
    }
  },
  "cells": [
    {
      "cell_type": "markdown",
      "metadata": {
        "id": "view-in-github",
        "colab_type": "text"
      },
      "source": [
        "<a href=\"https://colab.research.google.com/github/Amirhosseinuosefi/Amir-hossein-yosefi/blob/main/Untitled5.ipynb\" target=\"_parent\"><img src=\"https://colab.research.google.com/assets/colab-badge.svg\" alt=\"Open In Colab\"/></a>"
      ]
    },
    {
      "cell_type": "code",
      "execution_count": 1,
      "metadata": {
        "colab": {
          "base_uri": "https://localhost:8080/"
        },
        "id": "tDvwasFvID6r",
        "outputId": "5b80d0df-85d2-4f18-ca37-2f02d91abb2d"
      },
      "outputs": [
        {
          "output_type": "stream",
          "name": "stdout",
          "text": [
            "لطفا یک عدد وارد کنید: 546\n",
            "معکوس عدد وارد شده: 645\n"
          ]
        }
      ],
      "source": [
        "number = int(input(\"لطفا یک عدد وارد کنید: \"))\n",
        "reversed_number = 0\n",
        "\n",
        "while number > 0:\n",
        "    digit = number % 10\n",
        "    reversed_number = (reversed_number * 10) + digit\n",
        "    number = number // 10\n",
        "\n",
        "print(\"معکوس عدد وارد شده:\", reversed_number)\n"
      ]
    }
  ]
}