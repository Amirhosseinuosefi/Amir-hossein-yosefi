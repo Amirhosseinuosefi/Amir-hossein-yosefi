{
  "nbformat": 4,
  "nbformat_minor": 0,
  "metadata": {
    "colab": {
      "provenance": [],
      "authorship_tag": "ABX9TyPIT5LvVfK4aHGaut5Fhk46",
      "include_colab_link": true
    },
    "kernelspec": {
      "name": "python3",
      "display_name": "Python 3"
    },
    "language_info": {
      "name": "python"
    }
  },
  "cells": [
    {
      "cell_type": "markdown",
      "metadata": {
        "id": "view-in-github",
        "colab_type": "text"
      },
      "source": [
        "<a href=\"https://colab.research.google.com/github/Amirhosseinuosefi/Amir-hossein-yosefi/blob/main/Untitled6.ipynb\" target=\"_parent\"><img src=\"https://colab.research.google.com/assets/colab-badge.svg\" alt=\"Open In Colab\"/></a>"
      ]
    },
    {
      "cell_type": "code",
      "source": [
        "def power1():\n",
        "    a = float(input(\"Enter the base number: \"))\n",
        "    b = int(input(\"Enter the power number: \"))\n",
        "    result = 1\n",
        "    for i in range(b):\n",
        "        result *= a\n",
        "    print(f\"{a} ** {b} is: {result}\")\n",
        "\n",
        "power1()"
      ],
      "metadata": {
        "colab": {
          "base_uri": "https://localhost:8080/"
        },
        "id": "_GBY76VtESJD",
        "outputId": "68b7014c-9e3a-458d-d7ef-6266d2c289ed"
      },
      "execution_count": 9,
      "outputs": [
        {
          "output_type": "stream",
          "name": "stdout",
          "text": [
            "Enter the base number: 2\n",
            "Enter the power number: 3\n",
            "2.0 ** 3 is: 8.0\n"
          ]
        }
      ]
    }
  ]
}